{
  "nbformat": 4,
  "nbformat_minor": 0,
  "metadata": {
    "colab": {
      "provenance": [],
      "gpuType": "T4"
    },
    "kernelspec": {
      "name": "python3",
      "display_name": "Python 3"
    },
    "language_info": {
      "name": "python"
    },
    "accelerator": "GPU"
  },
  "cells": [
    {
      "cell_type": "markdown",
      "source": [
        "# Challenge: Create a Siamese Network with Custom Layers, Custom Losses, and Custom Outputs"
      ],
      "metadata": {
        "id": "NZI62dnUfFKC"
      }
    },
    {
      "cell_type": "markdown",
      "source": [
        "Creating a Siamese Network using Keras to determine if two MNIST images are of the same digit involves several steps. A Siamese Network typically consists of two identical subnetworks with shared weights. The output is a measure of similarity between the inputs. For this task, we'll also add a custom layer and a custom loss function suitable for comparing similarity.\n",
        "\n",
        "Here are the steps we'll follow:\n",
        "\n",
        "1. Load the MNIST Dataset: We'll use the MNIST dataset available in Keras.\n",
        "\n",
        "1. Define the Custom Layer: This could be a simple layer for demonstration purposes.\n",
        "\n",
        "1. Define the Siamese Network Architecture: The architecture will consist of two identical subnetworks.\n",
        "\n",
        "1. Implement a Custom Loss Function: Suitable for a Siamese network, typically a contrastive loss function.\n",
        "\n",
        "1. Prepare the Data: Format the MNIST data for the Siamese network training.\n",
        "\n",
        "1. Compile and Train the Model: Using the custom loss function.\n",
        "\n",
        "\n",
        "Here is a nice image to represent a Siamese Network:\n",
        "\n",
        "\n",
        "![](https://pyimagesearch.com/wp-content/uploads/2020/11/keras_siamese_networks_header.png)\n",
        "\n",
        "The difference in our case is that we are not going to use a ConvNet but a normal Fully Connected network with a custom layer, and that at the end we are not going to apply the sigmoid loss so our output will be the euclidean distance between the images, a low value represents images being equal and a high value being different"
      ],
      "metadata": {
        "id": "4brRiqfDfLhu"
      }
    },
    {
      "cell_type": "code",
      "execution_count": 1,
      "metadata": {
        "colab": {
          "base_uri": "https://localhost:8080/"
        },
        "id": "nKA0Ms_WZEeQ",
        "outputId": "2564152b-1388-4eda-c8b3-53c1f39ee2be"
      },
      "outputs": [
        {
          "output_type": "stream",
          "name": "stdout",
          "text": [
            "Downloading data from https://storage.googleapis.com/tensorflow/tf-keras-datasets/mnist.npz\n",
            "\u001b[1m11490434/11490434\u001b[0m \u001b[32m━━━━━━━━━━━━━━━━━━━━\u001b[0m\u001b[37m\u001b[0m \u001b[1m2s\u001b[0m 0us/step\n"
          ]
        }
      ],
      "source": [
        "import tensorflow as tf\n",
        "import numpy as np\n",
        "import random\n",
        "from tensorflow.keras.datasets import mnist\n",
        "from tensorflow.keras.layers import Input, Flatten, Dense, Lambda, Layer\n",
        "from tensorflow.keras.models import Model\n",
        "import matplotlib.pyplot as plt\n",
        "\n",
        "# 1. Load MNIST data\n",
        "(x_train, y_train), (x_test, y_test) = mnist.load_data()\n",
        "x_train = x_train.astype('float32') / 255.\n",
        "x_test = x_test.astype('float32') / 255.\n",
        "\n"
      ]
    },
    {
      "cell_type": "code",
      "source": [
        "# Visualize 10 random images along with their labels\n",
        "for i in range(10):\n",
        "    plt.subplot(2, 5, i+1)\n",
        "    plt.imshow(x_train[i], cmap='gray')\n",
        "    plt.title(y_train[i])\n",
        "    plt.axis('off')  # Hide the axes for a cleaner visualization\n",
        "plt.show()  # Display the entire figure with all 10 images and their labels"
      ],
      "metadata": {
        "colab": {
          "base_uri": "https://localhost:8080/",
          "height": 346
        },
        "id": "UFkoAcjXpvX1",
        "outputId": "dd332c0c-765a-4623-8d1e-909eabae2430"
      },
      "execution_count": 39,
      "outputs": [
        {
          "output_type": "display_data",
          "data": {
            "text/plain": [
              "<Figure size 640x480 with 10 Axes>"
            ],
            "image/png": "[encoded data removed]"
          },
          "metadata": {}
        }
      ]
    },
    {
      "cell_type": "code",
      "source": [
        "print('train:',x_train.shape)\n",
        "print('test:',x_test.shape)"
      ],
      "metadata": {
        "colab": {
          "base_uri": "https://localhost:8080/"
        },
        "id": "teBB_L4xqR99",
        "outputId": "4d62b152-8925-49e1-b191-549079901988"
      },
      "execution_count": 40,
      "outputs": [
        {
          "output_type": "stream",
          "name": "stdout",
          "text": [
            "train: (60000, 28, 28)\n",
            "test: (10000, 28, 28)\n"
          ]
        }
      ]
    },
    {
      "cell_type": "markdown",
      "source": [
        "### 2) Adding custom layer"
      ],
      "metadata": {
        "id": "WieC1mG-unYe"
      }
    },
    {
      "cell_type": "code",
      "source": [
        "# Define a custom layer by subclassing the `Layer` class from TensorFlow/Keras\n",
        "class CustomLayer(Layer):\n",
        "    def __init__(self, units=32, **kwargs):\n",
        "        \"\"\"\n",
        "        Initialize the custom layer.\n",
        "\n",
        "        Args:\n",
        "            units (int): Number of units (neurons) in the layer. Default is 32.\n",
        "            **kwargs: Additional keyword arguments passed to the parent class.\n",
        "        \"\"\"\n",
        "        super(CustomLayer, self).__init__(**kwargs)  # Call the constructor of the parent class (Layer)\n",
        "        self.units = units  # Store the number of units as an attribute\n",
        "\n",
        "    def build(self, input_shape):\n",
        "        \"\"\"\n",
        "        Create the weights of the layer.\n",
        "\n",
        "        Args:\n",
        "            input_shape: Shape of the input tensor to the layer.\n",
        "        \"\"\"\n",
        "        # Define a trainable weight matrix with shape (input_dim, units), e.g., (3,4)*(4,2) -> (3,2),\n",
        "        # 3 images with 4 features are multiplied by weight matrix of (4, 2) which results in (3,2)\n",
        "        # as input for 2 units of current layer\n",
        "        self.w = self.add_weight(shape=(input_shape[-1], self.units),\n",
        "                                 initializer='random_normal',  # Initialize weights randomly\n",
        "                                 trainable=True)  # Make the weights trainable\n",
        "\n",
        "    def call(self, inputs):\n",
        "        \"\"\"\n",
        "        Perform the forward pass computation for the layer.\n",
        "\n",
        "        Args:\n",
        "            inputs: Input tensor to the layer.\n",
        "\n",
        "        Returns:\n",
        "            Output tensor after applying the layer's transformation.\n",
        "        \"\"\"\n",
        "        # Perform matrix multiplication between inputs and weights\n",
        "        return tf.matmul(inputs, self.w)"
      ],
      "metadata": {
        "id": "F5amo7ZkueKX"
      },
      "execution_count": 42,
      "outputs": []
    },
    {
      "cell_type": "markdown",
      "source": [
        "### 3) Create the base network"
      ],
      "metadata": {
        "id": "M1EH_d1Xv19F"
      }
    },
    {
      "cell_type": "code",
      "source": [
        "def build_base_network(input_shape):\n",
        "    input = Input(shape=input_shape)\n",
        "    x = Flatten()(input)                     # Flatten the input\n",
        "    x = Dense(128, activation='relu')(x)    # Add a fully connected layer of 128 units\n",
        "    x = CustomLayer(64)(x)                   # Create a custom layer with 64 units\n",
        "    return Model(input, x)"
      ],
      "metadata": {
        "id": "MgyU04gxv9fb"
      },
      "execution_count": 43,
      "outputs": []
    },
    {
      "cell_type": "code",
      "source": [
        "# Get the shape of the input data (excluding the batch size)\n",
        "input_shape = x_train.shape[1:]  # Shape of a single sample (e.g., (28, 28) for MNIST images)\n",
        "\n",
        "# Create the base network (shared between both inputs)\n",
        "base_network = build_base_network(input_shape)  # Build the base network (e.g., a CNN or MLP)\n",
        "\n",
        "# Create the left input and connect it to the base network\n",
        "input_a = Input(shape=input_shape)  # Define the left input tensor\n",
        "processed_a = base_network(input_a)  # Pass the left input through the base network\n",
        "\n",
        "# Create the right input and connect it to the base network\n",
        "input_b = Input(shape=input_shape)\n",
        "processed_b = base_network(input_b)\n",
        "\n",
        "# Add a distance metric (e.g., Euclidean distance) between the two processed inputs\n",
        "distance = Lambda(\n",
        "    lambda embeddings: tf.sqrt(  # Compute the square root of the sum of squared differences\n",
        "        tf.reduce_sum(  # Sum the squared differences along the specified axis\n",
        "            tf.square(embeddings[0] - embeddings[1]),  # Compute the squared differences\n",
        "            axis=1,  # Sum along the feature axis (e.g., for embeddings of shape (batch_size, embedding_dim))\n",
        "            keepdims=True  # Keep the summed dimension as a single dimension (e.g., (batch_size, 1))\n",
        "        )\n",
        "    )\n",
        ")([processed_a, processed_b])  # Pass the processed inputs (embeddings) to the Lambda layer\n",
        "\n",
        "# Create the Siamese Network model\n",
        "model = Model([input_a, input_b], distance)  # Define the model with two inputs and the distance as output"
      ],
      "metadata": {
        "id": "AIT_xgD1wdPZ"
      },
      "execution_count": 44,
      "outputs": []
    },
    {
      "cell_type": "markdown",
      "source": [
        "### 4) Add the custom loss function"
      ],
      "metadata": {
        "id": "QlH6LK_UzxMs"
      }
    },
    {
      "cell_type": "code",
      "source": [
        "def contrastive_loss(y_true, y_pred):\n",
        "    \"\"\"\n",
        "    Compute the contrastive loss for a Siamese network.\n",
        "\n",
        "    Args:\n",
        "        y_true (tensor): Ground truth labels (1 for similar pairs, 0 for dissimilar pairs).\n",
        "        y_pred (tensor): Predicted distances between the pairs.\n",
        "\n",
        "    Returns:\n",
        "        tensor: The computed contrastive loss.\n",
        "    \"\"\"\n",
        "    margin = 1  # Define the margin for the contrastive loss\n",
        "\n",
        "    # Cast y_true to float32 to ensure compatibility with TensorFlow operations\n",
        "    y_true = tf.cast(y_true, tf.float32)\n",
        "\n",
        "    # Square the predicted distances (y_pred)\n",
        "    squared_pred = tf.square(y_pred)\n",
        "\n",
        "    # Compute the squared hinge loss for dissimilar pairs\n",
        "    # If y_pred > margin, the loss is 0; otherwise, it's (margin - y_pred)^2\n",
        "    margin_square = tf.square(tf.maximum(margin - y_pred, 0))\n",
        "\n",
        "    # Compute the contrastive loss:\n",
        "    # - For similar pairs (y_true = 1), use squared_pred (encourage small distances).\n",
        "    # - For dissimilar pairs (y_true = 0), use margin_square (encourage distances > margin).\n",
        "    loss = margin_square * (1 - y_true) + y_true * squared_pred\n",
        "\n",
        "    # Return the mean loss over the batch\n",
        "    return tf.reduce_mean(loss)"
      ],
      "metadata": {
        "id": "paAHYdfywqJB"
      },
      "execution_count": 45,
      "outputs": []
    },
    {
      "cell_type": "code",
      "source": [
        "model.compile(optimizer='adam', loss=contrastive_loss)"
      ],
      "metadata": {
        "id": "hBFHlu-30kIH"
      },
      "execution_count": 48,
      "outputs": []
    },
    {
      "cell_type": "code",
      "source": [
        "model.summary()"
      ],
      "metadata": {
        "colab": {
          "base_uri": "https://localhost:8080/",
          "height": 328
        },
        "id": "zdAMQvto06-c",
        "outputId": "0858b19a-1022-4cdb-a65a-215f908de9b3"
      },
      "execution_count": 49,
      "outputs": [
        {
          "output_type": "display_data",
          "data": {
            "text/plain": [
              "\u001b[1mModel: \"functional_5\"\u001b[0m\n"
            ],
            "text/html": [
              "<pre style=\"white-space:pre;overflow-x:auto;line-height:normal;font-family:Menlo,'DejaVu Sans Mono',consolas,'Courier New',monospace\"><span style=\"font-weight: bold\">Model: \"functional_5\"</span>\n",
              "</pre>\n"
            ]
          },
          "metadata": {}
        },
        {
          "output_type": "display_data",
          "data": {
            "text/plain": [
              "┏━━━━━━━━━━━━━━━━━━━━━━━━━━━┳━━━━━━━━━━━━━━━━━━━━━━━━┳━━━━━━━━━━━━━━━━┳━━━━━━━━━━━━━━━━━━━━━━━━┓\n",
              "┃\u001b[1m \u001b[0m\u001b[1mLayer (type)             \u001b[0m\u001b[1m \u001b[0m┃\u001b[1m \u001b[0m\u001b[1mOutput Shape          \u001b[0m\u001b[1m \u001b[0m┃\u001b[1m \u001b[0m\u001b[1m       Param #\u001b[0m\u001b[1m \u001b[0m┃\u001b[1m \u001b[0m\u001b[1mConnected to          \u001b[0m\u001b[1m \u001b[0m┃\n",
              "┡━━━━━━━━━━━━━━━━━━━━━━━━━━━╇━━━━━━━━━━━━━━━━━━━━━━━━╇━━━━━━━━━━━━━━━━╇━━━━━━━━━━━━━━━━━━━━━━━━┩\n",
              "│ input_layer_10            │ (\u001b[38;5;45mNone\u001b[0m, \u001b[38;5;34m28\u001b[0m, \u001b[38;5;34m28\u001b[0m)         │              \u001b[38;5;34m0\u001b[0m │ -                      │\n",
              "│ (\u001b[38;5;33mInputLayer\u001b[0m)              │                        │                │                        │\n",
              "├───────────────────────────┼────────────────────────┼────────────────┼────────────────────────┤\n",
              "│ input_layer_11            │ (\u001b[38;5;45mNone\u001b[0m, \u001b[38;5;34m28\u001b[0m, \u001b[38;5;34m28\u001b[0m)         │              \u001b[38;5;34m0\u001b[0m │ -                      │\n",
              "│ (\u001b[38;5;33mInputLayer\u001b[0m)              │                        │                │                        │\n",
              "├───────────────────────────┼────────────────────────┼────────────────┼────────────────────────┤\n",
              "│ functional_4 (\u001b[38;5;33mFunctional\u001b[0m) │ (\u001b[38;5;45mNone\u001b[0m, \u001b[38;5;34m64\u001b[0m)             │        \u001b[38;5;34m108,672\u001b[0m │ input_layer_10[\u001b[38;5;34m0\u001b[0m][\u001b[38;5;34m0\u001b[0m],  │\n",
              "│                           │                        │                │ input_layer_11[\u001b[38;5;34m0\u001b[0m][\u001b[38;5;34m0\u001b[0m]   │\n",
              "├───────────────────────────┼────────────────────────┼────────────────┼────────────────────────┤\n",
              "│ lambda_2 (\u001b[38;5;33mLambda\u001b[0m)         │ (\u001b[38;5;45mNone\u001b[0m, \u001b[38;5;34m1\u001b[0m)              │              \u001b[38;5;34m0\u001b[0m │ functional_4[\u001b[38;5;34m0\u001b[0m][\u001b[38;5;34m0\u001b[0m],    │\n",
              "│                           │                        │                │ functional_4[\u001b[38;5;34m1\u001b[0m][\u001b[38;5;34m0\u001b[0m]     │\n",
              "└───────────────────────────┴────────────────────────┴────────────────┴────────────────────────┘\n"
            ],
            "text/html": [
              "<pre style=\"white-space:pre;overflow-x:auto;line-height:normal;font-family:Menlo,'DejaVu Sans Mono',consolas,'Courier New',monospace\">┏━━━━━━━━━━━━━━━━━━━━━━━━━━━┳━━━━━━━━━━━━━━━━━━━━━━━━┳━━━━━━━━━━━━━━━━┳━━━━━━━━━━━━━━━━━━━━━━━━┓\n",
              "┃<span style=\"font-weight: bold\"> Layer (type)              </span>┃<span style=\"font-weight: bold\"> Output Shape           </span>┃<span style=\"font-weight: bold\">        Param # </span>┃<span style=\"font-weight: bold\"> Connected to           </span>┃\n",
              "┡━━━━━━━━━━━━━━━━━━━━━━━━━━━╇━━━━━━━━━━━━━━━━━━━━━━━━╇━━━━━━━━━━━━━━━━╇━━━━━━━━━━━━━━━━━━━━━━━━┩\n",
              "│ input_layer_10            │ (<span style=\"color: #00d7ff; text-decoration-color: #00d7ff\">None</span>, <span style=\"color: #00af00; text-decoration-color: #00af00\">28</span>, <span style=\"color: #00af00; text-decoration-color: #00af00\">28</span>)         │              <span style=\"color: #00af00; text-decoration-color: #00af00\">0</span> │ -                      │\n",
              "│ (<span style=\"color: #0087ff; text-decoration-color: #0087ff\">InputLayer</span>)              │                        │                │                        │\n",
              "├───────────────────────────┼────────────────────────┼────────────────┼────────────────────────┤\n",
              "│ input_layer_11            │ (<span style=\"color: #00d7ff; text-decoration-color: #00d7ff\">None</span>, <span style=\"color: #00af00; text-decoration-color: #00af00\">28</span>, <span style=\"color: #00af00; text-decoration-color: #00af00\">28</span>)         │              <span style=\"color: #00af00; text-decoration-color: #00af00\">0</span> │ -                      │\n",
              "│ (<span style=\"color: #0087ff; text-decoration-color: #0087ff\">InputLayer</span>)              │                        │                │                        │\n",
              "├───────────────────────────┼────────────────────────┼────────────────┼────────────────────────┤\n",
              "│ functional_4 (<span style=\"color: #0087ff; text-decoration-color: #0087ff\">Functional</span>) │ (<span style=\"color: #00d7ff; text-decoration-color: #00d7ff\">None</span>, <span style=\"color: #00af00; text-decoration-color: #00af00\">64</span>)             │        <span style=\"color: #00af00; text-decoration-color: #00af00\">108,672</span> │ input_layer_10[<span style=\"color: #00af00; text-decoration-color: #00af00\">0</span>][<span style=\"color: #00af00; text-decoration-color: #00af00\">0</span>],  │\n",
              "│                           │                        │                │ input_layer_11[<span style=\"color: #00af00; text-decoration-color: #00af00\">0</span>][<span style=\"color: #00af00; text-decoration-color: #00af00\">0</span>]   │\n",
              "├───────────────────────────┼────────────────────────┼────────────────┼────────────────────────┤\n",
              "│ lambda_2 (<span style=\"color: #0087ff; text-decoration-color: #0087ff\">Lambda</span>)         │ (<span style=\"color: #00d7ff; text-decoration-color: #00d7ff\">None</span>, <span style=\"color: #00af00; text-decoration-color: #00af00\">1</span>)              │              <span style=\"color: #00af00; text-decoration-color: #00af00\">0</span> │ functional_4[<span style=\"color: #00af00; text-decoration-color: #00af00\">0</span>][<span style=\"color: #00af00; text-decoration-color: #00af00\">0</span>],    │\n",
              "│                           │                        │                │ functional_4[<span style=\"color: #00af00; text-decoration-color: #00af00\">1</span>][<span style=\"color: #00af00; text-decoration-color: #00af00\">0</span>]     │\n",
              "└───────────────────────────┴────────────────────────┴────────────────┴────────────────────────┘\n",
              "</pre>\n"
            ]
          },
          "metadata": {}
        },
        {
          "output_type": "display_data",
          "data": {
            "text/plain": [
              "\u001b[1m Total params: \u001b[0m\u001b[38;5;34m108,672\u001b[0m (424.50 KB)\n"
            ],
            "text/html": [
              "<pre style=\"white-space:pre;overflow-x:auto;line-height:normal;font-family:Menlo,'DejaVu Sans Mono',consolas,'Courier New',monospace\"><span style=\"font-weight: bold\"> Total params: </span><span style=\"color: #00af00; text-decoration-color: #00af00\">108,672</span> (424.50 KB)\n",
              "</pre>\n"
            ]
          },
          "metadata": {}
        },
        {
          "output_type": "display_data",
          "data": {
            "text/plain": [
              "\u001b[1m Trainable params: \u001b[0m\u001b[38;5;34m108,672\u001b[0m (424.50 KB)\n"
            ],
            "text/html": [
              "<pre style=\"white-space:pre;overflow-x:auto;line-height:normal;font-family:Menlo,'DejaVu Sans Mono',consolas,'Courier New',monospace\"><span style=\"font-weight: bold\"> Trainable params: </span><span style=\"color: #00af00; text-decoration-color: #00af00\">108,672</span> (424.50 KB)\n",
              "</pre>\n"
            ]
          },
          "metadata": {}
        },
        {
          "output_type": "display_data",
          "data": {
            "text/plain": [
              "\u001b[1m Non-trainable params: \u001b[0m\u001b[38;5;34m0\u001b[0m (0.00 B)\n"
            ],
            "text/html": [
              "<pre style=\"white-space:pre;overflow-x:auto;line-height:normal;font-family:Menlo,'DejaVu Sans Mono',consolas,'Courier New',monospace\"><span style=\"font-weight: bold\"> Non-trainable params: </span><span style=\"color: #00af00; text-decoration-color: #00af00\">0</span> (0.00 B)\n",
              "</pre>\n"
            ]
          },
          "metadata": {}
        }
      ]
    },
    {
      "cell_type": "markdown",
      "source": [
        "### 5) Create the paired train and test images"
      ],
      "metadata": {
        "id": "Aan_ALay6mTv"
      }
    },
    {
      "cell_type": "code",
      "source": [
        "def create_pairs(x, digit_indices):\n",
        "    \"\"\"\n",
        "    Create pairs of images and corresponding labels for training a Siamese network.\n",
        "\n",
        "    Args:\n",
        "        x (numpy array): The dataset containing images.\n",
        "        digit_indices (list): A list of lists, where each sublist contains the indices of images for a specific digit (0-9).\n",
        "\n",
        "    Returns:\n",
        "        pairs (numpy array): An array of image pairs.\n",
        "        labels (numpy array): An array of labels indicating whether the pairs are similar (1) or dissimilar (0).\n",
        "    \"\"\"\n",
        "    pairs = []  # List to store the image pairs\n",
        "    labels = []  # List to store the corresponding labels\n",
        "\n",
        "    # Find the minimum number of samples for any digit (to ensure balanced pairs)\n",
        "    n = min([len(digit_indices[d]) for d in range(10)]) - 1\n",
        "\n",
        "    # Iterate over each digit (0-9)\n",
        "    for d in range(10):\n",
        "        # Iterate over the first n samples for the current digit\n",
        "        for i in range(n):\n",
        "            # Create a positive pair (two images of the same digit)\n",
        "            z1, z2 = digit_indices[d][i], digit_indices[d][i + 1]\n",
        "            pairs += [[x[z1], x[z2]]]  # Add the positive pair to the list\n",
        "            labels += [1]  # Label for positive pairs is 1 (similar)\n",
        "\n",
        "            # Create a negative pair (two images of different digits)\n",
        "            inc = random.randrange(1, 10)  # Randomly select a different digit\n",
        "            dn = (d + inc) % 10  # Ensure the digit index wraps around if it exceeds 9\n",
        "            z1, z2 = digit_indices[d][i], digit_indices[dn][i]\n",
        "            pairs += [[x[z1], x[z2]]]  # Add the negative pair to the list\n",
        "            labels += [0]  # Label for negative pairs is 0 (dissimilar)\n",
        "\n",
        "    # Convert the lists to numpy arrays and return them\n",
        "    return np.array(pairs), np.array(labels)"
      ],
      "metadata": {
        "id": "tZJdNFuJ09DX"
      },
      "execution_count": 53,
      "outputs": []
    },
    {
      "cell_type": "code",
      "source": [
        "digit_indices_train = [np.where(y_train == i)[0] for i in range(10)]\n",
        "digit_indices_test = [np.where(y_test == i)[0] for i in range(10)]"
      ],
      "metadata": {
        "id": "K9x33KP92ccC"
      },
      "execution_count": 54,
      "outputs": []
    },
    {
      "cell_type": "code",
      "source": [
        "digit_indices_train"
      ],
      "metadata": {
        "colab": {
          "base_uri": "https://localhost:8080/"
        },
        "id": "Sn-v4inyFQc4",
        "outputId": "a38ea86f-9485-4737-b870-6c44ccdcd799"
      },
      "execution_count": 56,
      "outputs": [
        {
          "output_type": "execute_result",
          "data": {
            "text/plain": [
              "[array([    1,    21,    34, ..., 59952, 59972, 59987]),\n",
              " array([    3,     6,     8, ..., 59979, 59984, 59994]),\n",
              " array([    5,    16,    25, ..., 59983, 59985, 59991]),\n",
              " array([    7,    10,    12, ..., 59978, 59980, 59996]),\n",
              " array([    2,     9,    20, ..., 59943, 59951, 59975]),\n",
              " array([    0,    11,    35, ..., 59968, 59993, 59997]),\n",
              " array([   13,    18,    32, ..., 59982, 59986, 59998]),\n",
              " array([   15,    29,    38, ..., 59963, 59977, 59988]),\n",
              " array([   17,    31,    41, ..., 59989, 59995, 59999]),\n",
              " array([    4,    19,    22, ..., 59973, 59990, 59992])]"
            ]
          },
          "metadata": {},
          "execution_count": 56
        }
      ]
    },
    {
      "cell_type": "code",
      "source": [
        "train_pairs, train_labels = create_pairs(x_train, digit_indices_train)\n",
        "test_pairs, test_labels = create_pairs(x_test, digit_indices_test)"
      ],
      "metadata": {
        "id": "ITCzD0WC3ItC"
      },
      "execution_count": 59,
      "outputs": []
    },
    {
      "cell_type": "code",
      "source": [
        "train_pairs.shape, train_labels.shape"
      ],
      "metadata": {
        "colab": {
          "base_uri": "https://localhost:8080/"
        },
        "id": "D65MrhuN3NO4",
        "outputId": "8c864267-7ee5-4161-e8e0-055964c52ecc"
      },
      "execution_count": 58,
      "outputs": [
        {
          "output_type": "execute_result",
          "data": {
            "text/plain": [
              "((108400, 2, 28, 28), (108400,))"
            ]
          },
          "metadata": {},
          "execution_count": 58
        }
      ]
    },
    {
      "cell_type": "code",
      "source": [
        "model.fit([train_pairs[:, 0, :, :], train_pairs[:, 1, :, :]], train_labels, batch_size=128, epochs=10)"
      ],
      "metadata": {
        "colab": {
          "base_uri": "https://localhost:8080/"
        },
        "id": "FaG0MS683q0F",
        "outputId": "062d09c1-7070-4803-8a6d-2dba4bfac8f3"
      },
      "execution_count": 60,
      "outputs": [
        {
          "output_type": "stream",
          "name": "stdout",
          "text": [
            "Epoch 1/10\n",
            "\u001b[1m847/847\u001b[0m \u001b[32m━━━━━━━━━━━━━━━━━━━━\u001b[0m\u001b[37m\u001b[0m \u001b[1m3s\u001b[0m 2ms/step - loss: 0.1387\n",
            "Epoch 2/10\n",
            "\u001b[1m847/847\u001b[0m \u001b[32m━━━━━━━━━━━━━━━━━━━━\u001b[0m\u001b[37m\u001b[0m \u001b[1m2s\u001b[0m 2ms/step - loss: 0.0709\n",
            "Epoch 3/10\n",
            "\u001b[1m847/847\u001b[0m \u001b[32m━━━━━━━━━━━━━━━━━━━━\u001b[0m\u001b[37m\u001b[0m \u001b[1m2s\u001b[0m 2ms/step - loss: 0.0600\n",
            "Epoch 4/10\n",
            "\u001b[1m847/847\u001b[0m \u001b[32m━━━━━━━━━━━━━━━━━━━━\u001b[0m\u001b[37m\u001b[0m \u001b[1m1s\u001b[0m 2ms/step - loss: 0.0540\n",
            "Epoch 5/10\n",
            "\u001b[1m847/847\u001b[0m \u001b[32m━━━━━━━━━━━━━━━━━━━━\u001b[0m\u001b[37m\u001b[0m \u001b[1m1s\u001b[0m 2ms/step - loss: 0.0504\n",
            "Epoch 6/10\n",
            "\u001b[1m847/847\u001b[0m \u001b[32m━━━━━━━━━━━━━━━━━━━━\u001b[0m\u001b[37m\u001b[0m \u001b[1m2s\u001b[0m 2ms/step - loss: 0.0470\n",
            "Epoch 7/10\n",
            "\u001b[1m847/847\u001b[0m \u001b[32m━━━━━━━━━━━━━━━━━━━━\u001b[0m\u001b[37m\u001b[0m \u001b[1m2s\u001b[0m 2ms/step - loss: 0.0451\n",
            "Epoch 8/10\n",
            "\u001b[1m847/847\u001b[0m \u001b[32m━━━━━━━━━━━━━━━━━━━━\u001b[0m\u001b[37m\u001b[0m \u001b[1m1s\u001b[0m 2ms/step - loss: 0.0436\n",
            "Epoch 9/10\n",
            "\u001b[1m847/847\u001b[0m \u001b[32m━━━━━━━━━━━━━━━━━━━━\u001b[0m\u001b[37m\u001b[0m \u001b[1m3s\u001b[0m 2ms/step - loss: 0.0420\n",
            "Epoch 10/10\n",
            "\u001b[1m847/847\u001b[0m \u001b[32m━━━━━━━━━━━━━━━━━━━━\u001b[0m\u001b[37m\u001b[0m \u001b[1m3s\u001b[0m 2ms/step - loss: 0.0407\n"
          ]
        },
        {
          "output_type": "execute_result",
          "data": {
            "text/plain": [
              "<keras.src.callbacks.history.History at 0x7b104c9546d0>"
            ]
          },
          "metadata": {},
          "execution_count": 60
        }
      ]
    },
    {
      "cell_type": "code",
      "source": [
        "model.evaluate([test_pairs[:, 0, :, :], test_pairs[:, 1, :, :]], test_labels)"
      ],
      "metadata": {
        "colab": {
          "base_uri": "https://localhost:8080/"
        },
        "id": "G5RrnOLQ3vcp",
        "outputId": "11c169d7-1e87-4ed9-814f-90d7863ca6f5"
      },
      "execution_count": 61,
      "outputs": [
        {
          "output_type": "stream",
          "name": "stdout",
          "text": [
            "\u001b[1m557/557\u001b[0m \u001b[32m━━━━━━━━━━━━━━━━━━━━\u001b[0m\u001b[37m\u001b[0m \u001b[1m1s\u001b[0m 2ms/step - loss: 0.0426\n"
          ]
        },
        {
          "output_type": "execute_result",
          "data": {
            "text/plain": [
              "0.05037562921643257"
            ]
          },
          "metadata": {},
          "execution_count": 61
        }
      ]
    },
    {
      "cell_type": "code",
      "source": [
        "n = 10\n",
        "\n",
        "sample_pairs = test_pairs[:n, :, :, :]  # take the first 10 pairs\n",
        "sample_labels = test_labels[:n]\n",
        "\n",
        "predictions = model.predict([sample_pairs[:, 0, :, :], sample_pairs[:, 1, :, :]])"
      ],
      "metadata": {
        "colab": {
          "base_uri": "https://localhost:8080/"
        },
        "id": "j1o_bOwn4OZf",
        "outputId": "8f61c4ee-2b12-41cc-a157-4b77c6e27d2a"
      },
      "execution_count": 62,
      "outputs": [
        {
          "output_type": "stream",
          "name": "stdout",
          "text": [
            "\u001b[1m1/1\u001b[0m \u001b[32m━━━━━━━━━━━━━━━━━━━━\u001b[0m\u001b[37m\u001b[0m \u001b[1m0s\u001b[0m 245ms/step\n"
          ]
        }
      ]
    },
    {
      "cell_type": "code",
      "source": [
        "print(f'Predictions: {predictions}')\n",
        "print(f'Labels: {sample_labels}')"
      ],
      "metadata": {
        "colab": {
          "base_uri": "https://localhost:8080/"
        },
        "id": "2peyOV9T4pY-",
        "outputId": "bf56bd77-f7b6-4c28-aaed-a954f40d8286"
      },
      "execution_count": 63,
      "outputs": [
        {
          "output_type": "stream",
          "name": "stdout",
          "text": [
            "Predictions: [[0.05717292]\n",
            " [0.9056703 ]\n",
            " [0.03177738]\n",
            " [1.3878725 ]\n",
            " [0.08963111]\n",
            " [1.2261666 ]\n",
            " [0.10706487]\n",
            " [1.3669826 ]\n",
            " [0.10638668]\n",
            " [1.4240905 ]]\n",
            "Labels: [1 0 1 0 1 0 1 0 1 0]\n"
          ]
        }
      ]
    },
    {
      "cell_type": "code",
      "source": [],
      "metadata": {
        "id": "uhv4PSAP5MF4"
      },
      "execution_count": null,
      "outputs": []
    }
  ]
}